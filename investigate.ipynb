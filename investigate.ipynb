{
 "cells": [
  {
   "cell_type": "markdown",
   "metadata": {},
   "source": [
    "\n",
    "\n",
    "# Project: Investigate a Dataset - TMDB Movie ratings\n",
    "\n",
    "## Table of Contents\n",
    "<ul>\n",
    "<li><a href=\"#intro\">Introduction</a></li>\n",
    "<li><a href=\"#wrangling\">Data Wrangling</a></li>\n",
    "<li><a href=\"#eda\">Exploratory Data Analysis</a></li>\n",
    "<li><a href=\"#conclusions\">Conclusions</a></li>\n",
    "</ul>"
   ]
  },
  {
   "cell_type": "markdown",
   "metadata": {},
   "source": [
    "<a id='intro'></a>\n",
    "## Introduction\n",
    "\n",
    "The dataset selected for analysis is \"TMDB Movies\". To get an idea on what questions can be asked, the dataset is loaded, and a basic summary of the dataset is obtained"
   ]
  },
  {
   "cell_type": "code",
   "execution_count": 1,
   "metadata": {},
   "outputs": [],
   "source": [
    "import numpy as np\n",
    "import pandas as pd\n",
    "import matplotlib.pyplot as plt\n",
    "import seaborn as sns\n",
    "\n",
    "sns.set_style('darkgrid')\n",
    "% matplotlib inline"
   ]
  },
  {
   "cell_type": "markdown",
   "metadata": {},
   "source": [
    "Importing and loading up data to get an idea on what questions can be answered from the Dataset"
   ]
  },
  {
   "cell_type": "code",
   "execution_count": 2,
   "metadata": {
    "scrolled": true
   },
   "outputs": [
    {
     "data": {
      "text/html": [
       "<div>\n",
       "<style scoped>\n",
       "    .dataframe tbody tr th:only-of-type {\n",
       "        vertical-align: middle;\n",
       "    }\n",
       "\n",
       "    .dataframe tbody tr th {\n",
       "        vertical-align: top;\n",
       "    }\n",
       "\n",
       "    .dataframe thead th {\n",
       "        text-align: right;\n",
       "    }\n",
       "</style>\n",
       "<table border=\"1\" class=\"dataframe\">\n",
       "  <thead>\n",
       "    <tr style=\"text-align: right;\">\n",
       "      <th></th>\n",
       "      <th>id</th>\n",
       "      <th>imdb_id</th>\n",
       "      <th>popularity</th>\n",
       "      <th>budget</th>\n",
       "      <th>revenue</th>\n",
       "      <th>original_title</th>\n",
       "      <th>cast</th>\n",
       "      <th>homepage</th>\n",
       "      <th>director</th>\n",
       "      <th>tagline</th>\n",
       "      <th>...</th>\n",
       "      <th>overview</th>\n",
       "      <th>runtime</th>\n",
       "      <th>genres</th>\n",
       "      <th>production_companies</th>\n",
       "      <th>release_date</th>\n",
       "      <th>vote_count</th>\n",
       "      <th>vote_average</th>\n",
       "      <th>release_year</th>\n",
       "      <th>budget_adj</th>\n",
       "      <th>revenue_adj</th>\n",
       "    </tr>\n",
       "  </thead>\n",
       "  <tbody>\n",
       "    <tr>\n",
       "      <th>0</th>\n",
       "      <td>135397</td>\n",
       "      <td>tt0369610</td>\n",
       "      <td>32.985763</td>\n",
       "      <td>150000000</td>\n",
       "      <td>1513528810</td>\n",
       "      <td>Jurassic World</td>\n",
       "      <td>Chris Pratt|Bryce Dallas Howard|Irrfan Khan|Vi...</td>\n",
       "      <td>http://www.jurassicworld.com/</td>\n",
       "      <td>Colin Trevorrow</td>\n",
       "      <td>The park is open.</td>\n",
       "      <td>...</td>\n",
       "      <td>Twenty-two years after the events of Jurassic ...</td>\n",
       "      <td>124</td>\n",
       "      <td>Action|Adventure|Science Fiction|Thriller</td>\n",
       "      <td>Universal Studios|Amblin Entertainment|Legenda...</td>\n",
       "      <td>6/9/15</td>\n",
       "      <td>5562</td>\n",
       "      <td>6.5</td>\n",
       "      <td>2015</td>\n",
       "      <td>1.379999e+08</td>\n",
       "      <td>1.392446e+09</td>\n",
       "    </tr>\n",
       "    <tr>\n",
       "      <th>1</th>\n",
       "      <td>76341</td>\n",
       "      <td>tt1392190</td>\n",
       "      <td>28.419936</td>\n",
       "      <td>150000000</td>\n",
       "      <td>378436354</td>\n",
       "      <td>Mad Max: Fury Road</td>\n",
       "      <td>Tom Hardy|Charlize Theron|Hugh Keays-Byrne|Nic...</td>\n",
       "      <td>http://www.madmaxmovie.com/</td>\n",
       "      <td>George Miller</td>\n",
       "      <td>What a Lovely Day.</td>\n",
       "      <td>...</td>\n",
       "      <td>An apocalyptic story set in the furthest reach...</td>\n",
       "      <td>120</td>\n",
       "      <td>Action|Adventure|Science Fiction|Thriller</td>\n",
       "      <td>Village Roadshow Pictures|Kennedy Miller Produ...</td>\n",
       "      <td>5/13/15</td>\n",
       "      <td>6185</td>\n",
       "      <td>7.1</td>\n",
       "      <td>2015</td>\n",
       "      <td>1.379999e+08</td>\n",
       "      <td>3.481613e+08</td>\n",
       "    </tr>\n",
       "    <tr>\n",
       "      <th>2</th>\n",
       "      <td>262500</td>\n",
       "      <td>tt2908446</td>\n",
       "      <td>13.112507</td>\n",
       "      <td>110000000</td>\n",
       "      <td>295238201</td>\n",
       "      <td>Insurgent</td>\n",
       "      <td>Shailene Woodley|Theo James|Kate Winslet|Ansel...</td>\n",
       "      <td>http://www.thedivergentseries.movie/#insurgent</td>\n",
       "      <td>Robert Schwentke</td>\n",
       "      <td>One Choice Can Destroy You</td>\n",
       "      <td>...</td>\n",
       "      <td>Beatrice Prior must confront her inner demons ...</td>\n",
       "      <td>119</td>\n",
       "      <td>Adventure|Science Fiction|Thriller</td>\n",
       "      <td>Summit Entertainment|Mandeville Films|Red Wago...</td>\n",
       "      <td>3/18/15</td>\n",
       "      <td>2480</td>\n",
       "      <td>6.3</td>\n",
       "      <td>2015</td>\n",
       "      <td>1.012000e+08</td>\n",
       "      <td>2.716190e+08</td>\n",
       "    </tr>\n",
       "    <tr>\n",
       "      <th>3</th>\n",
       "      <td>140607</td>\n",
       "      <td>tt2488496</td>\n",
       "      <td>11.173104</td>\n",
       "      <td>200000000</td>\n",
       "      <td>2068178225</td>\n",
       "      <td>Star Wars: The Force Awakens</td>\n",
       "      <td>Harrison Ford|Mark Hamill|Carrie Fisher|Adam D...</td>\n",
       "      <td>http://www.starwars.com/films/star-wars-episod...</td>\n",
       "      <td>J.J. Abrams</td>\n",
       "      <td>Every generation has a story.</td>\n",
       "      <td>...</td>\n",
       "      <td>Thirty years after defeating the Galactic Empi...</td>\n",
       "      <td>136</td>\n",
       "      <td>Action|Adventure|Science Fiction|Fantasy</td>\n",
       "      <td>Lucasfilm|Truenorth Productions|Bad Robot</td>\n",
       "      <td>12/15/15</td>\n",
       "      <td>5292</td>\n",
       "      <td>7.5</td>\n",
       "      <td>2015</td>\n",
       "      <td>1.839999e+08</td>\n",
       "      <td>1.902723e+09</td>\n",
       "    </tr>\n",
       "    <tr>\n",
       "      <th>4</th>\n",
       "      <td>168259</td>\n",
       "      <td>tt2820852</td>\n",
       "      <td>9.335014</td>\n",
       "      <td>190000000</td>\n",
       "      <td>1506249360</td>\n",
       "      <td>Furious 7</td>\n",
       "      <td>Vin Diesel|Paul Walker|Jason Statham|Michelle ...</td>\n",
       "      <td>http://www.furious7.com/</td>\n",
       "      <td>James Wan</td>\n",
       "      <td>Vengeance Hits Home</td>\n",
       "      <td>...</td>\n",
       "      <td>Deckard Shaw seeks revenge against Dominic Tor...</td>\n",
       "      <td>137</td>\n",
       "      <td>Action|Crime|Thriller</td>\n",
       "      <td>Universal Pictures|Original Film|Media Rights ...</td>\n",
       "      <td>4/1/15</td>\n",
       "      <td>2947</td>\n",
       "      <td>7.3</td>\n",
       "      <td>2015</td>\n",
       "      <td>1.747999e+08</td>\n",
       "      <td>1.385749e+09</td>\n",
       "    </tr>\n",
       "  </tbody>\n",
       "</table>\n",
       "<p>5 rows × 21 columns</p>\n",
       "</div>"
      ],
      "text/plain": [
       "       id    imdb_id  popularity     budget     revenue  \\\n",
       "0  135397  tt0369610   32.985763  150000000  1513528810   \n",
       "1   76341  tt1392190   28.419936  150000000   378436354   \n",
       "2  262500  tt2908446   13.112507  110000000   295238201   \n",
       "3  140607  tt2488496   11.173104  200000000  2068178225   \n",
       "4  168259  tt2820852    9.335014  190000000  1506249360   \n",
       "\n",
       "                 original_title  \\\n",
       "0                Jurassic World   \n",
       "1            Mad Max: Fury Road   \n",
       "2                     Insurgent   \n",
       "3  Star Wars: The Force Awakens   \n",
       "4                     Furious 7   \n",
       "\n",
       "                                                cast  \\\n",
       "0  Chris Pratt|Bryce Dallas Howard|Irrfan Khan|Vi...   \n",
       "1  Tom Hardy|Charlize Theron|Hugh Keays-Byrne|Nic...   \n",
       "2  Shailene Woodley|Theo James|Kate Winslet|Ansel...   \n",
       "3  Harrison Ford|Mark Hamill|Carrie Fisher|Adam D...   \n",
       "4  Vin Diesel|Paul Walker|Jason Statham|Michelle ...   \n",
       "\n",
       "                                            homepage          director  \\\n",
       "0                      http://www.jurassicworld.com/   Colin Trevorrow   \n",
       "1                        http://www.madmaxmovie.com/     George Miller   \n",
       "2     http://www.thedivergentseries.movie/#insurgent  Robert Schwentke   \n",
       "3  http://www.starwars.com/films/star-wars-episod...       J.J. Abrams   \n",
       "4                           http://www.furious7.com/         James Wan   \n",
       "\n",
       "                         tagline      ...       \\\n",
       "0              The park is open.      ...        \n",
       "1             What a Lovely Day.      ...        \n",
       "2     One Choice Can Destroy You      ...        \n",
       "3  Every generation has a story.      ...        \n",
       "4            Vengeance Hits Home      ...        \n",
       "\n",
       "                                            overview runtime  \\\n",
       "0  Twenty-two years after the events of Jurassic ...     124   \n",
       "1  An apocalyptic story set in the furthest reach...     120   \n",
       "2  Beatrice Prior must confront her inner demons ...     119   \n",
       "3  Thirty years after defeating the Galactic Empi...     136   \n",
       "4  Deckard Shaw seeks revenge against Dominic Tor...     137   \n",
       "\n",
       "                                      genres  \\\n",
       "0  Action|Adventure|Science Fiction|Thriller   \n",
       "1  Action|Adventure|Science Fiction|Thriller   \n",
       "2         Adventure|Science Fiction|Thriller   \n",
       "3   Action|Adventure|Science Fiction|Fantasy   \n",
       "4                      Action|Crime|Thriller   \n",
       "\n",
       "                                production_companies release_date vote_count  \\\n",
       "0  Universal Studios|Amblin Entertainment|Legenda...       6/9/15       5562   \n",
       "1  Village Roadshow Pictures|Kennedy Miller Produ...      5/13/15       6185   \n",
       "2  Summit Entertainment|Mandeville Films|Red Wago...      3/18/15       2480   \n",
       "3          Lucasfilm|Truenorth Productions|Bad Robot     12/15/15       5292   \n",
       "4  Universal Pictures|Original Film|Media Rights ...       4/1/15       2947   \n",
       "\n",
       "   vote_average  release_year    budget_adj   revenue_adj  \n",
       "0           6.5          2015  1.379999e+08  1.392446e+09  \n",
       "1           7.1          2015  1.379999e+08  3.481613e+08  \n",
       "2           6.3          2015  1.012000e+08  2.716190e+08  \n",
       "3           7.5          2015  1.839999e+08  1.902723e+09  \n",
       "4           7.3          2015  1.747999e+08  1.385749e+09  \n",
       "\n",
       "[5 rows x 21 columns]"
      ]
     },
     "execution_count": 2,
     "metadata": {},
     "output_type": "execute_result"
    }
   ],
   "source": [
    "df = pd.read_csv('tmdb-movies.csv')\n",
    "df.head(5)"
   ]
  },
  {
   "cell_type": "code",
   "execution_count": 3,
   "metadata": {
    "scrolled": false
   },
   "outputs": [
    {
     "name": "stdout",
     "output_type": "stream",
     "text": [
      "<class 'pandas.core.frame.DataFrame'>\n",
      "RangeIndex: 10866 entries, 0 to 10865\n",
      "Data columns (total 21 columns):\n",
      "id                      10866 non-null int64\n",
      "imdb_id                 10856 non-null object\n",
      "popularity              10866 non-null float64\n",
      "budget                  10866 non-null int64\n",
      "revenue                 10866 non-null int64\n",
      "original_title          10866 non-null object\n",
      "cast                    10790 non-null object\n",
      "homepage                2936 non-null object\n",
      "director                10822 non-null object\n",
      "tagline                 8042 non-null object\n",
      "keywords                9373 non-null object\n",
      "overview                10862 non-null object\n",
      "runtime                 10866 non-null int64\n",
      "genres                  10843 non-null object\n",
      "production_companies    9836 non-null object\n",
      "release_date            10866 non-null object\n",
      "vote_count              10866 non-null int64\n",
      "vote_average            10866 non-null float64\n",
      "release_year            10866 non-null int64\n",
      "budget_adj              10866 non-null float64\n",
      "revenue_adj             10866 non-null float64\n",
      "dtypes: float64(4), int64(6), object(11)\n",
      "memory usage: 1.7+ MB\n"
     ]
    }
   ],
   "source": [
    "df.info()"
   ]
  },
  {
   "cell_type": "code",
   "execution_count": 4,
   "metadata": {},
   "outputs": [
    {
     "data": {
      "text/plain": [
       "0    monster|dna|tyrannosaurus rex|velociraptor|island\n",
       "1     future|chase|post-apocalyptic|dystopia|australia\n",
       "2    based on novel|revolution|dystopia|sequel|dyst...\n",
       "3                android|spaceship|jedi|space opera|3d\n",
       "4                  car race|speed|revenge|suspense|car\n",
       "Name: keywords, dtype: object"
      ]
     },
     "execution_count": 4,
     "metadata": {},
     "output_type": "execute_result"
    }
   ],
   "source": [
    "df.keywords.head()"
   ]
  },
  {
   "cell_type": "markdown",
   "metadata": {},
   "source": [
    "## Questions that can be answered\n",
    "\n",
    "Based on the above cell's results, the following questions are chosen for analysis.\n",
    "\n",
    "1. Does runtime has an effect on popularity, revenue of the movies ?\n",
    "\n",
    "2. What is the typical runtime of movies over the years.?\n",
    "\n",
    "3. Is budget correlated with increase in revenue ?\n",
    "\n",
    "4. Popularity vs Revenue\n",
    "\n",
    "5. Who are the top '5' directors w.r.t max(revenue) .? Does their movies always have a higher revenue return than others..?"
   ]
  },
  {
   "cell_type": "markdown",
   "metadata": {},
   "source": [
    "<a id='wrangling'></a>\n",
    "## Data Wrangling\n",
    "\n",
    "### General Properties\n",
    "\n",
    "As seen from the head() and info() function, cell 2, and cell 3, the following columns has null values"
   ]
  },
  {
   "cell_type": "code",
   "execution_count": 5,
   "metadata": {},
   "outputs": [
    {
     "data": {
      "text/plain": [
       "id                         0\n",
       "imdb_id                   10\n",
       "popularity                 0\n",
       "budget                     0\n",
       "revenue                    0\n",
       "original_title             0\n",
       "cast                      76\n",
       "homepage                7930\n",
       "director                  44\n",
       "tagline                 2824\n",
       "keywords                1493\n",
       "overview                   4\n",
       "runtime                    0\n",
       "genres                    23\n",
       "production_companies    1030\n",
       "release_date               0\n",
       "vote_count                 0\n",
       "vote_average               0\n",
       "release_year               0\n",
       "budget_adj                 0\n",
       "revenue_adj                0\n",
       "dtype: int64"
      ]
     },
     "execution_count": 5,
     "metadata": {},
     "output_type": "execute_result"
    }
   ],
   "source": [
    "df.isnull().sum()"
   ]
  },
  {
   "cell_type": "markdown",
   "metadata": {},
   "source": [
    "Since, Homepage is not needed, dropping that column\n",
    "Tagline, overview also won't be useful for answering any of the thought up question. Hence removing them too\n",
    "Keywords is similar to genre and can be dropped.\n",
    "Production companies or not needed either."
   ]
  },
  {
   "cell_type": "code",
   "execution_count": 10,
   "metadata": {
    "scrolled": false
   },
   "outputs": [
    {
     "name": "stdout",
     "output_type": "stream",
     "text": [
      "<class 'pandas.core.frame.DataFrame'>\n",
      "Int64Index: 10856 entries, 0 to 10865\n",
      "Data columns (total 16 columns):\n",
      "id                10856 non-null int64\n",
      "imdb_id           10856 non-null object\n",
      "popularity        10856 non-null float64\n",
      "budget            10856 non-null int64\n",
      "revenue           10856 non-null int64\n",
      "original_title    10856 non-null object\n",
      "cast              10780 non-null object\n",
      "director          10816 non-null object\n",
      "runtime           10856 non-null int64\n",
      "genres            10835 non-null object\n",
      "release_date      10856 non-null object\n",
      "vote_count        10856 non-null int64\n",
      "vote_average      10856 non-null float64\n",
      "release_year      10856 non-null int64\n",
      "budget_adj        10856 non-null float64\n",
      "revenue_adj       10856 non-null float64\n",
      "dtypes: float64(4), int64(6), object(6)\n",
      "memory usage: 1.4+ MB\n"
     ]
    }
   ],
   "source": [
    "df.drop(columns=['homepage','tagline', 'overview', 'keywords', 'production_companies'], inplace=True)\n",
    "df.info()"
   ]
  },
  {
   "cell_type": "markdown",
   "metadata": {},
   "source": [
    "Other columns has few Nulls and are dropped"
   ]
  },
  {
   "cell_type": "code",
   "execution_count": 11,
   "metadata": {
    "scrolled": true
   },
   "outputs": [
    {
     "name": "stdout",
     "output_type": "stream",
     "text": [
      "<class 'pandas.core.frame.DataFrame'>\n",
      "Int64Index: 10727 entries, 0 to 10865\n",
      "Data columns (total 16 columns):\n",
      "id                10727 non-null int64\n",
      "imdb_id           10727 non-null object\n",
      "popularity        10727 non-null float64\n",
      "budget            10727 non-null int64\n",
      "revenue           10727 non-null int64\n",
      "original_title    10727 non-null object\n",
      "cast              10727 non-null object\n",
      "director          10727 non-null object\n",
      "runtime           10727 non-null int64\n",
      "genres            10727 non-null object\n",
      "release_date      10727 non-null object\n",
      "vote_count        10727 non-null int64\n",
      "vote_average      10727 non-null float64\n",
      "release_year      10727 non-null int64\n",
      "budget_adj        10727 non-null float64\n",
      "revenue_adj       10727 non-null float64\n",
      "dtypes: float64(4), int64(6), object(6)\n",
      "memory usage: 1.4+ MB\n"
     ]
    }
   ],
   "source": [
    "df.dropna(how='any', axis=0, inplace=True)\n",
    "df.info()"
   ]
  },
  {
   "cell_type": "markdown",
   "metadata": {},
   "source": [
    "### Converting to correct data types\n",
    "\n",
    "Converting release_date column to datetime object"
   ]
  },
  {
   "cell_type": "code",
   "execution_count": 44,
   "metadata": {},
   "outputs": [],
   "source": [
    "df['release_date'] = pd.to_datetime(df['release_date'])"
   ]
  },
  {
   "cell_type": "markdown",
   "metadata": {},
   "source": [
    "## Saving cleaned file\n",
    "\n",
    "Saving the files with no nulls and only necessary columns as 'movies_clean.csv'"
   ]
  },
  {
   "cell_type": "code",
   "execution_count": 45,
   "metadata": {},
   "outputs": [],
   "source": [
    "df.to_csv('movies_clean.csv', index=False)"
   ]
  },
  {
   "cell_type": "code",
   "execution_count": 2,
   "metadata": {
    "scrolled": true
   },
   "outputs": [
    {
     "data": {
      "text/html": [
       "<div>\n",
       "<style scoped>\n",
       "    .dataframe tbody tr th:only-of-type {\n",
       "        vertical-align: middle;\n",
       "    }\n",
       "\n",
       "    .dataframe tbody tr th {\n",
       "        vertical-align: top;\n",
       "    }\n",
       "\n",
       "    .dataframe thead th {\n",
       "        text-align: right;\n",
       "    }\n",
       "</style>\n",
       "<table border=\"1\" class=\"dataframe\">\n",
       "  <thead>\n",
       "    <tr style=\"text-align: right;\">\n",
       "      <th></th>\n",
       "      <th>id</th>\n",
       "      <th>imdb_id</th>\n",
       "      <th>popularity</th>\n",
       "      <th>budget</th>\n",
       "      <th>revenue</th>\n",
       "      <th>original_title</th>\n",
       "      <th>cast</th>\n",
       "      <th>director</th>\n",
       "      <th>runtime</th>\n",
       "      <th>genres</th>\n",
       "      <th>release_date</th>\n",
       "      <th>vote_count</th>\n",
       "      <th>vote_average</th>\n",
       "      <th>release_year</th>\n",
       "      <th>budget_adj</th>\n",
       "      <th>revenue_adj</th>\n",
       "    </tr>\n",
       "  </thead>\n",
       "  <tbody>\n",
       "    <tr>\n",
       "      <th>0</th>\n",
       "      <td>135397</td>\n",
       "      <td>tt0369610</td>\n",
       "      <td>32.985763</td>\n",
       "      <td>150000000</td>\n",
       "      <td>1513528810</td>\n",
       "      <td>Jurassic World</td>\n",
       "      <td>Chris Pratt|Bryce Dallas Howard|Irrfan Khan|Vi...</td>\n",
       "      <td>Colin Trevorrow</td>\n",
       "      <td>124</td>\n",
       "      <td>Action|Adventure|Science Fiction|Thriller</td>\n",
       "      <td>2015-06-09</td>\n",
       "      <td>5562</td>\n",
       "      <td>6.5</td>\n",
       "      <td>2015</td>\n",
       "      <td>1.379999e+08</td>\n",
       "      <td>1.392446e+09</td>\n",
       "    </tr>\n",
       "  </tbody>\n",
       "</table>\n",
       "</div>"
      ],
      "text/plain": [
       "       id    imdb_id  popularity     budget     revenue  original_title  \\\n",
       "0  135397  tt0369610   32.985763  150000000  1513528810  Jurassic World   \n",
       "\n",
       "                                                cast         director  \\\n",
       "0  Chris Pratt|Bryce Dallas Howard|Irrfan Khan|Vi...  Colin Trevorrow   \n",
       "\n",
       "   runtime                                     genres release_date  \\\n",
       "0      124  Action|Adventure|Science Fiction|Thriller   2015-06-09   \n",
       "\n",
       "   vote_count  vote_average  release_year    budget_adj   revenue_adj  \n",
       "0        5562           6.5          2015  1.379999e+08  1.392446e+09  "
      ]
     },
     "execution_count": 2,
     "metadata": {},
     "output_type": "execute_result"
    }
   ],
   "source": [
    "# Loading cleaned file\n",
    "\n",
    "df = pd.read_csv('movies_clean.csv')\n",
    "df.head(1)"
   ]
  },
  {
   "cell_type": "markdown",
   "metadata": {},
   "source": [
    "<a id='eda'></a>\n",
    "## Exploratory Data Analysis\n",
    "\n",
    "\n",
    "### Research Question 1 : Does runtime has an effect on popularity, revenue (normalized) of the movies ?\n",
    "\n",
    "Does runtime has an effect on popularity, revenue (normalized) of the movies ?\n",
    "What is the typical runtime of movies over the years.?\n",
    "Popularity vs Revenue (normalized)\n",
    "Has newer movies generally fetched higher revenues regardless of other factors.?*\n",
    "Who are the top '5' directors w.r.t max(revenue) .? Does their movies always have a higher revenue return than others..?\n",
    "Does popularity directly relate with the presence of specific genre..?\n",
    "Does revenue directly relate with the presence of specific genre..?"
   ]
  },
  {
   "cell_type": "code",
   "execution_count": 17,
   "metadata": {},
   "outputs": [],
   "source": [
    "import seaborn as sns"
   ]
  },
  {
   "cell_type": "code",
   "execution_count": 20,
   "metadata": {
    "scrolled": true
   },
   "outputs": [
    {
     "data": {
      "text/plain": [
       "count    10727.000000\n",
       "mean         0.652774\n",
       "std          1.004948\n",
       "min          0.000188\n",
       "25%          0.210766\n",
       "50%          0.387190\n",
       "75%          0.721488\n",
       "max         32.985763\n",
       "Name: popularity, dtype: float64"
      ]
     },
     "execution_count": 20,
     "metadata": {},
     "output_type": "execute_result"
    }
   ],
   "source": [
    "df.popularity.describe()"
   ]
  },
  {
   "cell_type": "code",
   "execution_count": 21,
   "metadata": {},
   "outputs": [
    {
     "data": {
      "text/plain": [
       "count    10727.000000\n",
       "mean       102.492682\n",
       "std         30.472103\n",
       "min          0.000000\n",
       "25%         90.000000\n",
       "50%         99.000000\n",
       "75%        112.000000\n",
       "max        900.000000\n",
       "Name: runtime, dtype: float64"
      ]
     },
     "execution_count": 21,
     "metadata": {},
     "output_type": "execute_result"
    }
   ],
   "source": [
    "df.runtime.describe()"
   ]
  },
  {
   "cell_type": "code",
   "execution_count": 48,
   "metadata": {
    "scrolled": false
   },
   "outputs": [
    {
     "data": {
      "text/plain": [
       "Text(0,0.5,'Popularity')"
      ]
     },
     "execution_count": 48,
     "metadata": {},
     "output_type": "execute_result"
    },
    {
     "data": {
      "image/png": "[encoded data removed]",
      "text/plain": [
       "<Figure size 432x288 with 1 Axes>"
      ]
     },
     "metadata": {},
     "output_type": "display_data"
    }
   ],
   "source": [
    "plt.scatter(x=df.runtime, y=df.popularity)\n",
    "plt.xlabel('Runtime')\n",
    "plt.ylabel('Popularity')"
   ]
  },
  {
   "cell_type": "markdown",
   "metadata": {},
   "source": [
    "#### Answer :\n",
    "\n",
    "Although, not much is found from the plot, it can be seen that movies with higher ratings generally have runtime between 90 to 180 mins (approx)"
   ]
  },
  {
   "cell_type": "markdown",
   "metadata": {},
   "source": [
    "### Runtime vs Revenue\n",
    "\n",
    "Revenue isn't normalized as many of the data has zero in place of revenue."
   ]
  },
  {
   "cell_type": "code",
   "execution_count": 49,
   "metadata": {
    "scrolled": false
   },
   "outputs": [
    {
     "data": {
      "text/plain": [
       "Text(0,0.5,'Revenue')"
      ]
     },
     "execution_count": 49,
     "metadata": {},
     "output_type": "execute_result"
    },
    {
     "data": {
      "image/png": "[encoded data removed]",
      "text/plain": [
       "<Figure size 432x288 with 1 Axes>"
      ]
     },
     "metadata": {},
     "output_type": "display_data"
    }
   ],
   "source": [
    "plt.scatter(x=df.runtime, y=df.revenue)\n",
    "plt.xlabel('Runtime')\n",
    "plt.ylabel('Revenue')"
   ]
  },
  {
   "cell_type": "markdown",
   "metadata": {},
   "source": [
    "Runtime vs Revenue has given a similar result as with popularity"
   ]
  },
  {
   "cell_type": "markdown",
   "metadata": {},
   "source": [
    "### Research Question 2  What is the typical runtime of movies over the years..?"
   ]
  },
  {
   "cell_type": "code",
   "execution_count": 62,
   "metadata": {},
   "outputs": [
    {
     "data": {
      "text/plain": [
       "Text(0,0.5,'Runtime')"
      ]
     },
     "execution_count": 62,
     "metadata": {},
     "output_type": "execute_result"
    },
    {
     "data": {
      "image/png": "[encoded data removed]",
      "text/plain": [
       "<Figure size 432x288 with 1 Axes>"
      ]
     },
     "metadata": {},
     "output_type": "display_data"
    }
   ],
   "source": [
    "plt.scatter(y=df.runtime, x=df.release_year)\n",
    "plt.xlabel('Year')\n",
    "plt.ylabel('Runtime')"
   ]
  },
  {
   "cell_type": "code",
   "execution_count": 57,
   "metadata": {},
   "outputs": [],
   "source": [
    "runtime_df = df.groupby('release_year')['runtime'].mean()"
   ]
  },
  {
   "cell_type": "code",
   "execution_count": 61,
   "metadata": {
    "scrolled": false
   },
   "outputs": [
    {
     "data": {
      "text/plain": [
       "Text(0.5,1,'Mean Runtime over the years')"
      ]
     },
     "execution_count": 61,
     "metadata": {},
     "output_type": "execute_result"
    },
    {
     "data": {
      "image/png": "[encoded data removed]",
      "text/plain": [
       "<Figure size 432x288 with 1 Axes>"
      ]
     },
     "metadata": {},
     "output_type": "display_data"
    }
   ],
   "source": [
    "plt.plot(runtime_df)\n",
    "plt.xlabel('Year')\n",
    "plt.ylabel('Runtime')\n",
    "plt.title('Mean Runtime over the years')"
   ]
  },
  {
   "cell_type": "markdown",
   "metadata": {},
   "source": [
    "### Result\n",
    "\n",
    "Over the years, the runtime of the movies hasn't changed much. But after 2000, number of movies with runtime less than 60 mins, has increased which can be seen from the scatter plot.\n",
    "\n",
    "Also, the line plot shows how the Mean runtime has changed over the years."
   ]
  },
  {
   "cell_type": "markdown",
   "metadata": {},
   "source": [
    "## Research Question 3: Has the number of movies released per year increased with time.?"
   ]
  },
  {
   "cell_type": "code",
   "execution_count": 88,
   "metadata": {},
   "outputs": [
    {
     "data": {
      "text/plain": [
       "Text(0.5,1,'Number of movies released each year')"
      ]
     },
     "execution_count": 88,
     "metadata": {},
     "output_type": "execute_result"
    },
    {
     "data": {
      "image/png": "[encoded data removed]",
      "text/plain": [
       "<Figure size 432x288 with 1 Axes>"
      ]
     },
     "metadata": {},
     "output_type": "display_data"
    }
   ],
   "source": [
    "yr_f = df.groupby('release_year')['release_year'].count()\n",
    "plt.plot(yr_f)\n",
    "plt.xlabel('Year')\n",
    "plt.ylabel('Number of Movies')\n",
    "plt.title('Number of movies released each year')"
   ]
  },
  {
   "cell_type": "markdown",
   "metadata": {},
   "source": [
    "### Result\n",
    "\n",
    "The Number of movies released per year, has exploded over the years. Starting from 30 years per year, it has reached a peak of 700 movies per year"
   ]
  },
  {
   "cell_type": "markdown",
   "metadata": {},
   "source": [
    "### Question 3 : Who are the top '5' directors w.r.t max(revenue) ? Does their movies always have a higher revenue return than others..?\n",
    "\n",
    "First, to find the top 5 directors, the DataFrame is grouped by directors, and the result is sorted based on revenue column.\n",
    "\n",
    "Second part of this question isn't answered, as there are only 29 movies from these directors, and there are so many zeros with other movies, which messes up their mean values"
   ]
  },
  {
   "cell_type": "code",
   "execution_count": 43,
   "metadata": {
    "scrolled": true
   },
   "outputs": [
    {
     "data": {
      "text/html": [
       "<div>\n",
       "<style scoped>\n",
       "    .dataframe tbody tr th:only-of-type {\n",
       "        vertical-align: middle;\n",
       "    }\n",
       "\n",
       "    .dataframe tbody tr th {\n",
       "        vertical-align: top;\n",
       "    }\n",
       "\n",
       "    .dataframe thead th {\n",
       "        text-align: right;\n",
       "    }\n",
       "</style>\n",
       "<table border=\"1\" class=\"dataframe\">\n",
       "  <thead>\n",
       "    <tr style=\"text-align: right;\">\n",
       "      <th></th>\n",
       "      <th>id</th>\n",
       "      <th>imdb_id</th>\n",
       "      <th>popularity</th>\n",
       "      <th>budget</th>\n",
       "      <th>revenue</th>\n",
       "      <th>original_title</th>\n",
       "      <th>cast</th>\n",
       "      <th>director</th>\n",
       "      <th>runtime</th>\n",
       "      <th>genres</th>\n",
       "      <th>release_date</th>\n",
       "      <th>vote_count</th>\n",
       "      <th>vote_average</th>\n",
       "      <th>release_year</th>\n",
       "      <th>budget_adj</th>\n",
       "      <th>revenue_adj</th>\n",
       "    </tr>\n",
       "  </thead>\n",
       "  <tbody>\n",
       "    <tr>\n",
       "      <th>1355</th>\n",
       "      <td>19995</td>\n",
       "      <td>tt0499549</td>\n",
       "      <td>9.432768</td>\n",
       "      <td>237000000</td>\n",
       "      <td>2781505847</td>\n",
       "      <td>Avatar</td>\n",
       "      <td>Sam Worthington|Zoe Saldana|Sigourney Weaver|S...</td>\n",
       "      <td>James Cameron</td>\n",
       "      <td>162</td>\n",
       "      <td>Action|Adventure|Fantasy|Science Fiction</td>\n",
       "      <td>2009-12-10</td>\n",
       "      <td>8458</td>\n",
       "      <td>7.1</td>\n",
       "      <td>2009</td>\n",
       "      <td>2.408869e+08</td>\n",
       "      <td>2.827124e+09</td>\n",
       "    </tr>\n",
       "    <tr>\n",
       "      <th>1299</th>\n",
       "      <td>11</td>\n",
       "      <td>tt0076759</td>\n",
       "      <td>12.037933</td>\n",
       "      <td>11000000</td>\n",
       "      <td>775398007</td>\n",
       "      <td>Star Wars</td>\n",
       "      <td>Mark Hamill|Harrison Ford|Carrie Fisher|Peter ...</td>\n",
       "      <td>George Lucas</td>\n",
       "      <td>121</td>\n",
       "      <td>Adventure|Action|Science Fiction</td>\n",
       "      <td>1977-03-20</td>\n",
       "      <td>4428</td>\n",
       "      <td>7.9</td>\n",
       "      <td>1977</td>\n",
       "      <td>3.957559e+07</td>\n",
       "      <td>2.789712e+09</td>\n",
       "    </tr>\n",
       "    <tr>\n",
       "      <th>5141</th>\n",
       "      <td>597</td>\n",
       "      <td>tt0120338</td>\n",
       "      <td>4.355219</td>\n",
       "      <td>200000000</td>\n",
       "      <td>1845034188</td>\n",
       "      <td>Titanic</td>\n",
       "      <td>Kate Winslet|Leonardo DiCaprio|Frances Fisher|...</td>\n",
       "      <td>James Cameron</td>\n",
       "      <td>194</td>\n",
       "      <td>Drama|Romance|Thriller</td>\n",
       "      <td>1997-11-18</td>\n",
       "      <td>4654</td>\n",
       "      <td>7.3</td>\n",
       "      <td>1997</td>\n",
       "      <td>2.716921e+08</td>\n",
       "      <td>2.506406e+09</td>\n",
       "    </tr>\n",
       "    <tr>\n",
       "      <th>10457</th>\n",
       "      <td>9552</td>\n",
       "      <td>tt0070047</td>\n",
       "      <td>2.010733</td>\n",
       "      <td>8000000</td>\n",
       "      <td>441306145</td>\n",
       "      <td>The Exorcist</td>\n",
       "      <td>Linda Blair|Max von Sydow|Ellen Burstyn|Jason ...</td>\n",
       "      <td>William Friedkin</td>\n",
       "      <td>122</td>\n",
       "      <td>Drama|Horror|Thriller</td>\n",
       "      <td>1973-12-26</td>\n",
       "      <td>1113</td>\n",
       "      <td>7.2</td>\n",
       "      <td>1973</td>\n",
       "      <td>3.928928e+07</td>\n",
       "      <td>2.167325e+09</td>\n",
       "    </tr>\n",
       "    <tr>\n",
       "      <th>9673</th>\n",
       "      <td>578</td>\n",
       "      <td>tt0073195</td>\n",
       "      <td>2.563191</td>\n",
       "      <td>7000000</td>\n",
       "      <td>470654000</td>\n",
       "      <td>Jaws</td>\n",
       "      <td>Roy Scheider|Robert Shaw|Richard Dreyfuss|Lorr...</td>\n",
       "      <td>Steven Spielberg</td>\n",
       "      <td>124</td>\n",
       "      <td>Horror|Thriller|Adventure</td>\n",
       "      <td>1975-06-18</td>\n",
       "      <td>1415</td>\n",
       "      <td>7.3</td>\n",
       "      <td>1975</td>\n",
       "      <td>2.836275e+07</td>\n",
       "      <td>1.907006e+09</td>\n",
       "    </tr>\n",
       "  </tbody>\n",
       "</table>\n",
       "</div>"
      ],
      "text/plain": [
       "          id    imdb_id  popularity     budget     revenue original_title  \\\n",
       "1355   19995  tt0499549    9.432768  237000000  2781505847         Avatar   \n",
       "1299      11  tt0076759   12.037933   11000000   775398007      Star Wars   \n",
       "5141     597  tt0120338    4.355219  200000000  1845034188        Titanic   \n",
       "10457   9552  tt0070047    2.010733    8000000   441306145   The Exorcist   \n",
       "9673     578  tt0073195    2.563191    7000000   470654000           Jaws   \n",
       "\n",
       "                                                    cast          director  \\\n",
       "1355   Sam Worthington|Zoe Saldana|Sigourney Weaver|S...     James Cameron   \n",
       "1299   Mark Hamill|Harrison Ford|Carrie Fisher|Peter ...      George Lucas   \n",
       "5141   Kate Winslet|Leonardo DiCaprio|Frances Fisher|...     James Cameron   \n",
       "10457  Linda Blair|Max von Sydow|Ellen Burstyn|Jason ...  William Friedkin   \n",
       "9673   Roy Scheider|Robert Shaw|Richard Dreyfuss|Lorr...  Steven Spielberg   \n",
       "\n",
       "       runtime                                    genres release_date  \\\n",
       "1355       162  Action|Adventure|Fantasy|Science Fiction   2009-12-10   \n",
       "1299       121          Adventure|Action|Science Fiction   1977-03-20   \n",
       "5141       194                    Drama|Romance|Thriller   1997-11-18   \n",
       "10457      122                     Drama|Horror|Thriller   1973-12-26   \n",
       "9673       124                 Horror|Thriller|Adventure   1975-06-18   \n",
       "\n",
       "       vote_count  vote_average  release_year    budget_adj   revenue_adj  \n",
       "1355         8458           7.1          2009  2.408869e+08  2.827124e+09  \n",
       "1299         4428           7.9          1977  3.957559e+07  2.789712e+09  \n",
       "5141         4654           7.3          1997  2.716921e+08  2.506406e+09  \n",
       "10457        1113           7.2          1973  3.928928e+07  2.167325e+09  \n",
       "9673         1415           7.3          1975  2.836275e+07  1.907006e+09  "
      ]
     },
     "execution_count": 43,
     "metadata": {},
     "output_type": "execute_result"
    }
   ],
   "source": [
    "sorted_df = df.sort_values('revenue_adj', ascending=False)\n",
    "sorted_df"
   ]
  },
  {
   "cell_type": "code",
   "execution_count": 45,
   "metadata": {
    "scrolled": false
   },
   "outputs": [
    {
     "data": {
      "text/plain": [
       "1355        James Cameron\n",
       "1299         George Lucas\n",
       "5141        James Cameron\n",
       "10457    William Friedkin\n",
       "9673     Steven Spielberg\n",
       "Name: director, dtype: object"
      ]
     },
     "execution_count": 45,
     "metadata": {},
     "output_type": "execute_result"
    }
   ],
   "source": [
    "directors = sorted_df['director'].head()\n",
    "directors"
   ]
  },
  {
   "cell_type": "markdown",
   "metadata": {},
   "source": [
    "### Question 5 : Popularity vs Revenue"
   ]
  },
  {
   "cell_type": "code",
   "execution_count": 37,
   "metadata": {
    "scrolled": true
   },
   "outputs": [
    {
     "data": {
      "text/plain": [
       "Text(0.5,1,'Popularity vs Revenue')"
      ]
     },
     "execution_count": 37,
     "metadata": {},
     "output_type": "execute_result"
    },
    {
     "data": {
      "image/png": "[encoded data removed]",
      "text/plain": [
       "<Figure size 432x288 with 1 Axes>"
      ]
     },
     "metadata": {},
     "output_type": "display_data"
    }
   ],
   "source": [
    "plt.scatter(x=df.popularity, y=df.revenue)\n",
    "plt.xlabel('Popularity')\n",
    "plt.ylabel('Revenue')\n",
    "plt.title('Popularity vs Revenue')"
   ]
  },
  {
   "cell_type": "markdown",
   "metadata": {},
   "source": [
    "#### Result :\n",
    "\n",
    "The variables Popularity and Revenue seems to be lightly correlated to each other."
   ]
  },
  {
   "cell_type": "markdown",
   "metadata": {},
   "source": [
    "#### Distribution of movie runtime"
   ]
  },
  {
   "cell_type": "code",
   "execution_count": 29,
   "metadata": {
    "scrolled": true
   },
   "outputs": [
    {
     "data": {
      "text/plain": [
       "Text(0.5,1,'Distribution of runtime of movies')"
      ]
     },
     "execution_count": 29,
     "metadata": {},
     "output_type": "execute_result"
    },
    {
     "data": {
      "image/png": "[encoded data removed]",
      "text/plain": [
       "<Figure size 900x600 with 1 Axes>"
      ]
     },
     "metadata": {},
     "output_type": "display_data"
    }
   ],
   "source": [
    "#Changes plot size for all the subsequent plots\n",
    "plt.rc('xtick', labelsize=8)\n",
    "plt.rc('ytick', labelsize=8)\n",
    "\n",
    "plt.figure(figsize=(9,6), dpi=100)\n",
    "plt.hist(df.runtime, rwidth=0.8, bins=100)\n",
    "plt.xlabel('Runtime of Movies', fontsize=15)\n",
    "plt.ylabel('Number of Movies', fontsize=15)\n",
    "plt.axis([0,500,0, 3000])\n",
    "plt.title('Distribution of runtime of movies', fontsize=17)"
   ]
  },
  {
   "cell_type": "markdown",
   "metadata": {},
   "source": [
    "From the above histogram, it can be seen that  most movies have a runtime of around 80-120 mins with 100 mins having the highest number of movies. Also, it can be seen that mean is right side of the mode, thus the distrubtion is right skewed."
   ]
  },
  {
   "cell_type": "code",
   "execution_count": 52,
   "metadata": {},
   "outputs": [
    {
     "data": {
      "text/plain": [
       "count    10727.000000\n",
       "mean       102.492682\n",
       "std         30.472103\n",
       "min          0.000000\n",
       "25%         90.000000\n",
       "50%         99.000000\n",
       "75%        112.000000\n",
       "max        900.000000\n",
       "Name: runtime, dtype: float64"
      ]
     },
     "execution_count": 52,
     "metadata": {},
     "output_type": "execute_result"
    }
   ],
   "source": [
    "df.runtime.describe()"
   ]
  },
  {
   "cell_type": "markdown",
   "metadata": {},
   "source": [
    "From the above series, it can be seen that, average runtime is around 102 mins. Only 25 percent of the movies have less than '90 mins' runtime. And Almost 50 percent of the movies have a runtime between '90 mins and 120 mins', just as seen from the histogram. A box plot can also be used to find out the outliers if necessary"
   ]
  },
  {
   "cell_type": "markdown",
   "metadata": {},
   "source": [
    "## Data Cleaning Part 2\n",
    "\n",
    "Since, the below section takes into consideration of Profit as factor for analysis, removing all entries with zeros removed"
   ]
  },
  {
   "cell_type": "code",
   "execution_count": 36,
   "metadata": {
    "scrolled": false
   },
   "outputs": [
    {
     "name": "stdout",
     "output_type": "stream",
     "text": [
      "<class 'pandas.core.frame.DataFrame'>\n",
      "Int64Index: 3850 entries, 0 to 10709\n",
      "Data columns (total 16 columns):\n",
      "id                3850 non-null int64\n",
      "imdb_id           3850 non-null object\n",
      "popularity        3850 non-null float64\n",
      "budget            3850 non-null int64\n",
      "revenue           3850 non-null int64\n",
      "original_title    3850 non-null object\n",
      "cast              3850 non-null object\n",
      "director          3850 non-null object\n",
      "runtime           3850 non-null int64\n",
      "genres            3850 non-null object\n",
      "release_date      3850 non-null object\n",
      "vote_count        3850 non-null int64\n",
      "vote_average      3850 non-null float64\n",
      "release_year      3850 non-null int64\n",
      "budget_adj        3850 non-null float64\n",
      "revenue_adj       3850 non-null float64\n",
      "dtypes: float64(4), int64(6), object(6)\n",
      "memory usage: 511.3+ KB\n"
     ]
    }
   ],
   "source": [
    "no_zeros = df[df.revenue != 0]\n",
    "no_zeros = no_zeros[no_zeros.budget != 0]\n",
    "no_zeros.info()"
   ]
  },
  {
   "cell_type": "code",
   "execution_count": 37,
   "metadata": {
    "scrolled": false
   },
   "outputs": [],
   "source": [
    "# Removing unnecessary columns - Vote Count, imdb_id, Vote Average\n",
    "\n",
    "no_zeros.drop(columns=['vote_count', 'vote_average', 'imdb_id'], inplace=True)"
   ]
  },
  {
   "cell_type": "code",
   "execution_count": 38,
   "metadata": {
    "scrolled": true
   },
   "outputs": [
    {
     "data": {
      "text/plain": [
       "1"
      ]
     },
     "execution_count": 38,
     "metadata": {},
     "output_type": "execute_result"
    }
   ],
   "source": [
    "no_zeros.duplicated().sum()"
   ]
  },
  {
   "cell_type": "code",
   "execution_count": 41,
   "metadata": {},
   "outputs": [
    {
     "data": {
      "text/plain": [
       "0"
      ]
     },
     "execution_count": 41,
     "metadata": {},
     "output_type": "execute_result"
    }
   ],
   "source": [
    "# Deleting duplicate\n",
    "no_zeros.drop_duplicates(inplace=True)\n",
    "no_zeros.duplicated().sum()"
   ]
  },
  {
   "cell_type": "code",
   "execution_count": 42,
   "metadata": {},
   "outputs": [],
   "source": [
    "#Creating Profit Column\n",
    "\n",
    "no_zeros['profit'] = no_zeros['revenue'] - no_zeros['budget']\n",
    "no_zeros['profit_adj'] = no_zeros['revenue_adj'] - no_zeros['budget_adj']"
   ]
  },
  {
   "cell_type": "code",
   "execution_count": 44,
   "metadata": {},
   "outputs": [],
   "source": [
    "# Saving cleaned data to a new csv\n",
    "no_zeros.to_csv('no_zeros.csv', index=False)"
   ]
  },
  {
   "cell_type": "code",
   "execution_count": 55,
   "metadata": {},
   "outputs": [],
   "source": [
    "# Setting style for Graphs\n",
    "\n",
    "sns.set_style('darkgrid')"
   ]
  },
  {
   "cell_type": "markdown",
   "metadata": {},
   "source": [
    "### General Questions\n",
    "General questions about the dataset.\n",
    "1. Which movie earns the most and least profit?\n",
    "2. Which movie had the greatest and least runtime?\n",
    "3. Which movie had the greatest and least budget?\n",
    "4. Which movie had the greatest and least revenue?\n",
    "5. What is the average runtime of all movies?\n",
    "6. What are the similar characteristics does the most profitable movie have?\n",
    "7. Average duration of movies.\n",
    "8. Average Budget.\n",
    "9. Average revenue.\n",
    "10. Average profits."
   ]
  },
  {
   "cell_type": "code",
   "execution_count": 45,
   "metadata": {},
   "outputs": [],
   "source": [
    "# Loading cleaned dataset\n",
    "\n",
    "df_cleaned = pd.read_csv('no_zeros.csv')"
   ]
  },
  {
   "cell_type": "code",
   "execution_count": 48,
   "metadata": {
    "scrolled": true
   },
   "outputs": [
    {
     "data": {
      "text/plain": [
       "id                                                            19995\n",
       "popularity                                                  9.43277\n",
       "budget                                                    237000000\n",
       "revenue                                                  2781505847\n",
       "original_title                                               Avatar\n",
       "cast              Sam Worthington|Zoe Saldana|Sigourney Weaver|S...\n",
       "director                                              James Cameron\n",
       "runtime                                                         162\n",
       "genres                     Action|Adventure|Fantasy|Science Fiction\n",
       "release_date                                             2009-12-10\n",
       "release_year                                                   2009\n",
       "budget_adj                                              2.40887e+08\n",
       "revenue_adj                                             2.82712e+09\n",
       "profit                                                   2544505847\n",
       "profit_adj                                              2.58624e+09\n",
       "Name: 344, dtype: object"
      ]
     },
     "execution_count": 48,
     "metadata": {},
     "output_type": "execute_result"
    }
   ],
   "source": [
    "df_cleaned.iloc[df_cleaned.revenue_adj.idxmax()]"
   ]
  },
  {
   "cell_type": "code",
   "execution_count": 49,
   "metadata": {
    "scrolled": true
   },
   "outputs": [
    {
     "data": {
      "text/plain": [
       "id                                                            13537\n",
       "popularity                                                 0.462609\n",
       "budget                                                      6000000\n",
       "revenue                                                           2\n",
       "original_title                                      Shattered Glass\n",
       "cast              Hayden Christensen|Peter Sarsgaard|ChloÃ« Sevi...\n",
       "director                                                  Billy Ray\n",
       "runtime                                                          94\n",
       "genres                                                Drama|History\n",
       "release_date                                             2003-11-14\n",
       "release_year                                                   2003\n",
       "budget_adj                                              7.11212e+06\n",
       "revenue_adj                                                 2.37071\n",
       "profit                                                     -5999998\n",
       "profit_adj                                             -7.11211e+06\n",
       "Name: 1729, dtype: object"
      ]
     },
     "execution_count": 49,
     "metadata": {},
     "output_type": "execute_result"
    }
   ],
   "source": [
    "df_cleaned.iloc[df_cleaned.revenue_adj.idxmin()]"
   ]
  },
  {
   "cell_type": "code",
   "execution_count": 53,
   "metadata": {
    "scrolled": true
   },
   "outputs": [
    {
     "data": {
      "text/html": [
       "<div>\n",
       "<style scoped>\n",
       "    .dataframe tbody tr th:only-of-type {\n",
       "        vertical-align: middle;\n",
       "    }\n",
       "\n",
       "    .dataframe tbody tr th {\n",
       "        vertical-align: top;\n",
       "    }\n",
       "\n",
       "    .dataframe thead th {\n",
       "        text-align: right;\n",
       "    }\n",
       "</style>\n",
       "<table border=\"1\" class=\"dataframe\">\n",
       "  <thead>\n",
       "    <tr style=\"text-align: right;\">\n",
       "      <th></th>\n",
       "      <th>id</th>\n",
       "      <th>popularity</th>\n",
       "      <th>budget</th>\n",
       "      <th>revenue</th>\n",
       "      <th>runtime</th>\n",
       "      <th>release_year</th>\n",
       "      <th>budget_adj</th>\n",
       "      <th>revenue_adj</th>\n",
       "      <th>profit</th>\n",
       "      <th>profit_adj</th>\n",
       "    </tr>\n",
       "  </thead>\n",
       "  <tbody>\n",
       "    <tr>\n",
       "      <th>count</th>\n",
       "      <td>3849.000000</td>\n",
       "      <td>3849.000000</td>\n",
       "      <td>3.849000e+03</td>\n",
       "      <td>3.849000e+03</td>\n",
       "      <td>3849.000000</td>\n",
       "      <td>3849.000000</td>\n",
       "      <td>3.849000e+03</td>\n",
       "      <td>3.849000e+03</td>\n",
       "      <td>3.849000e+03</td>\n",
       "      <td>3.849000e+03</td>\n",
       "    </tr>\n",
       "    <tr>\n",
       "      <th>mean</th>\n",
       "      <td>39885.146791</td>\n",
       "      <td>1.192933</td>\n",
       "      <td>3.724886e+07</td>\n",
       "      <td>1.078148e+08</td>\n",
       "      <td>109.217459</td>\n",
       "      <td>2001.258249</td>\n",
       "      <td>4.429360e+07</td>\n",
       "      <td>1.372313e+08</td>\n",
       "      <td>7.056595e+07</td>\n",
       "      <td>9.293772e+07</td>\n",
       "    </tr>\n",
       "    <tr>\n",
       "      <th>std</th>\n",
       "      <td>67248.890597</td>\n",
       "      <td>1.475622</td>\n",
       "      <td>4.221699e+07</td>\n",
       "      <td>1.766175e+08</td>\n",
       "      <td>19.914141</td>\n",
       "      <td>11.285642</td>\n",
       "      <td>4.481360e+07</td>\n",
       "      <td>2.162018e+08</td>\n",
       "      <td>1.506990e+08</td>\n",
       "      <td>1.941716e+08</td>\n",
       "    </tr>\n",
       "    <tr>\n",
       "      <th>min</th>\n",
       "      <td>5.000000</td>\n",
       "      <td>0.001117</td>\n",
       "      <td>1.000000e+00</td>\n",
       "      <td>2.000000e+00</td>\n",
       "      <td>15.000000</td>\n",
       "      <td>1960.000000</td>\n",
       "      <td>9.693980e-01</td>\n",
       "      <td>2.370705e+00</td>\n",
       "      <td>-4.139124e+08</td>\n",
       "      <td>-4.139124e+08</td>\n",
       "    </tr>\n",
       "    <tr>\n",
       "      <th>25%</th>\n",
       "      <td>6072.000000</td>\n",
       "      <td>0.463337</td>\n",
       "      <td>1.000000e+07</td>\n",
       "      <td>1.367069e+07</td>\n",
       "      <td>95.000000</td>\n",
       "      <td>1995.000000</td>\n",
       "      <td>1.316623e+07</td>\n",
       "      <td>1.843023e+07</td>\n",
       "      <td>-1.312284e+06</td>\n",
       "      <td>-1.503317e+06</td>\n",
       "    </tr>\n",
       "    <tr>\n",
       "      <th>50%</th>\n",
       "      <td>11313.000000</td>\n",
       "      <td>0.798582</td>\n",
       "      <td>2.400000e+07</td>\n",
       "      <td>4.490726e+07</td>\n",
       "      <td>106.000000</td>\n",
       "      <td>2004.000000</td>\n",
       "      <td>3.005030e+07</td>\n",
       "      <td>6.181393e+07</td>\n",
       "      <td>2.014450e+07</td>\n",
       "      <td>2.745198e+07</td>\n",
       "    </tr>\n",
       "    <tr>\n",
       "      <th>75%</th>\n",
       "      <td>38575.000000</td>\n",
       "      <td>1.374300</td>\n",
       "      <td>5.000000e+07</td>\n",
       "      <td>1.243052e+08</td>\n",
       "      <td>119.000000</td>\n",
       "      <td>2010.000000</td>\n",
       "      <td>6.076720e+07</td>\n",
       "      <td>1.634115e+08</td>\n",
       "      <td>8.198066e+07</td>\n",
       "      <td>1.075480e+08</td>\n",
       "    </tr>\n",
       "    <tr>\n",
       "      <th>max</th>\n",
       "      <td>417859.000000</td>\n",
       "      <td>32.985763</td>\n",
       "      <td>4.250000e+08</td>\n",
       "      <td>2.781506e+09</td>\n",
       "      <td>338.000000</td>\n",
       "      <td>2015.000000</td>\n",
       "      <td>4.250000e+08</td>\n",
       "      <td>2.827124e+09</td>\n",
       "      <td>2.544506e+09</td>\n",
       "      <td>2.750137e+09</td>\n",
       "    </tr>\n",
       "  </tbody>\n",
       "</table>\n",
       "</div>"
      ],
      "text/plain": [
       "                  id   popularity        budget       revenue      runtime  \\\n",
       "count    3849.000000  3849.000000  3.849000e+03  3.849000e+03  3849.000000   \n",
       "mean    39885.146791     1.192933  3.724886e+07  1.078148e+08   109.217459   \n",
       "std     67248.890597     1.475622  4.221699e+07  1.766175e+08    19.914141   \n",
       "min         5.000000     0.001117  1.000000e+00  2.000000e+00    15.000000   \n",
       "25%      6072.000000     0.463337  1.000000e+07  1.367069e+07    95.000000   \n",
       "50%     11313.000000     0.798582  2.400000e+07  4.490726e+07   106.000000   \n",
       "75%     38575.000000     1.374300  5.000000e+07  1.243052e+08   119.000000   \n",
       "max    417859.000000    32.985763  4.250000e+08  2.781506e+09   338.000000   \n",
       "\n",
       "       release_year    budget_adj   revenue_adj        profit    profit_adj  \n",
       "count   3849.000000  3.849000e+03  3.849000e+03  3.849000e+03  3.849000e+03  \n",
       "mean    2001.258249  4.429360e+07  1.372313e+08  7.056595e+07  9.293772e+07  \n",
       "std       11.285642  4.481360e+07  2.162018e+08  1.506990e+08  1.941716e+08  \n",
       "min     1960.000000  9.693980e-01  2.370705e+00 -4.139124e+08 -4.139124e+08  \n",
       "25%     1995.000000  1.316623e+07  1.843023e+07 -1.312284e+06 -1.503317e+06  \n",
       "50%     2004.000000  3.005030e+07  6.181393e+07  2.014450e+07  2.745198e+07  \n",
       "75%     2010.000000  6.076720e+07  1.634115e+08  8.198066e+07  1.075480e+08  \n",
       "max     2015.000000  4.250000e+08  2.827124e+09  2.544506e+09  2.750137e+09  "
      ]
     },
     "execution_count": 53,
     "metadata": {},
     "output_type": "execute_result"
    }
   ],
   "source": [
    "df_cleaned.describe()"
   ]
  },
  {
   "cell_type": "markdown",
   "metadata": {},
   "source": [
    "Basic statistics about the movies such as, Max, Min and Mean of each features can be easily calculated from describe function. It can be seen that,\n",
    "\n",
    "**For Budget**,\n",
    "\n",
    "Max Budget = 42.5 Billion.\n",
    "\n",
    "Min Budget = 1 USD (Seems fishy here). Let's look at that later\n",
    "\n",
    "**For Revenue**\n",
    "\n",
    "Max Revenue = 278.1 Billion.\n",
    "\n",
    "Min Revenue = 2 USD (!!!)\n",
    "\n",
    "**For Profit**\n",
    "\n",
    "Max Profit = 254.4 Billion\n",
    "\n",
    "Min Profit = -41.3 Billion (Loss. Unexpected)\n",
    "\n",
    "Let's explore all of them a little further."
   ]
  },
  {
   "cell_type": "code",
   "execution_count": 54,
   "metadata": {
    "scrolled": false
   },
   "outputs": [
    {
     "data": {
      "text/plain": [
       "id                                                            13537\n",
       "popularity                                                 0.462609\n",
       "budget                                                      6000000\n",
       "revenue                                                           2\n",
       "original_title                                      Shattered Glass\n",
       "cast              Hayden Christensen|Peter Sarsgaard|ChloÃ« Sevi...\n",
       "director                                                  Billy Ray\n",
       "runtime                                                          94\n",
       "genres                                                Drama|History\n",
       "release_date                                             2003-11-14\n",
       "release_year                                                   2003\n",
       "budget_adj                                              7.11212e+06\n",
       "revenue_adj                                                 2.37071\n",
       "profit                                                     -5999998\n",
       "profit_adj                                             -7.11211e+06\n",
       "Name: 1729, dtype: object"
      ]
     },
     "execution_count": 54,
     "metadata": {},
     "output_type": "execute_result"
    }
   ],
   "source": [
    "df_cleaned.iloc[df_cleaned.revenue.idxmin()]"
   ]
  },
  {
   "cell_type": "markdown",
   "metadata": {},
   "source": [
    "Looks like this an error in data. The original IMDB result shows 2.2 Million"
   ]
  },
  {
   "cell_type": "code",
   "execution_count": 55,
   "metadata": {},
   "outputs": [
    {
     "data": {
      "text/plain": [
       "id                                                            46528\n",
       "popularity                                                  0.25054\n",
       "budget                                                    425000000\n",
       "revenue                                                    11087569\n",
       "original_title                                    The Warrior's Way\n",
       "cast              Kate Bosworth|Jang Dong-gun|Geoffrey Rush|Dann...\n",
       "director                                                 Sngmoo Lee\n",
       "runtime                                                         100\n",
       "genres                    Adventure|Fantasy|Action|Western|Thriller\n",
       "release_date                                             2010-12-02\n",
       "release_year                                                   2010\n",
       "budget_adj                                                 4.25e+08\n",
       "revenue_adj                                             1.10876e+07\n",
       "profit                                                   -413912431\n",
       "profit_adj                                             -4.13912e+08\n",
       "Name: 682, dtype: object"
      ]
     },
     "execution_count": 55,
     "metadata": {},
     "output_type": "execute_result"
    }
   ],
   "source": [
    "df_cleaned.iloc[df_cleaned.profit.idxmin()]"
   ]
  },
  {
   "cell_type": "markdown",
   "metadata": {},
   "source": [
    "This seems to be correct. So, this movie has recorded the highest loss in history"
   ]
  },
  {
   "cell_type": "markdown",
   "metadata": {},
   "source": [
    "### Advanced Questions\n",
    "1. Which director directed most films?\n",
    "2. Whcih cast has appeared the most?\n",
    "3. Which genre were more successful?\n",
    "4. Which month released highest number of movies in all of the years? And which month made the most profit?"
   ]
  },
  {
   "cell_type": "code",
   "execution_count": 58,
   "metadata": {},
   "outputs": [],
   "source": [
    "def split_count(df, column):\n",
    "\n",
    "# Joining all data from cast column into a single string\n",
    "# Having no separator, means each line is concatenated with next without splitting. And if a column has a\n",
    "# single director then it will keep adding them, and wont separate them with '|' until there is a movie with\n",
    "# mutilple directors separated by '|'\n",
    "\n",
    "    data = df[column].str.cat(sep = '|')\n",
    "\n",
    "    # Converting that string to a Pandas Series\n",
    "    data = pd.Series(data.split('|'))\n",
    "    \n",
    "    # count how many times each entry has occurred\n",
    "    count = data.value_counts()\n",
    "    \n",
    "    return count"
   ]
  },
  {
   "cell_type": "markdown",
   "metadata": {},
   "source": [
    "### Which director has directed the most number of films. \n",
    "For the following questions, Let us consider movies with profits greater than 50M USD"
   ]
  },
  {
   "cell_type": "code",
   "execution_count": 62,
   "metadata": {},
   "outputs": [],
   "source": [
    "df_50 = df_cleaned[df_cleaned.profit >= 50000000]"
   ]
  },
  {
   "cell_type": "code",
   "execution_count": 63,
   "metadata": {
    "scrolled": true
   },
   "outputs": [
    {
     "data": {
      "text/plain": [
       "Steven Spielberg    23\n",
       "Robert Zemeckis     13\n",
       "Clint Eastwood      12\n",
       "Tim Burton          11\n",
       "Ron Howard          10\n",
       "dtype: int64"
      ]
     },
     "execution_count": 63,
     "metadata": {},
     "output_type": "execute_result"
    }
   ],
   "source": [
    "# Getting the count of directors\n",
    "\n",
    "count = split_count(df_50.copy(), 'director')\n",
    "count.head()"
   ]
  },
  {
   "cell_type": "markdown",
   "metadata": {},
   "source": [
    "As expected, **Steven Spielberg** has the most number of movies with profits greater than 50M USD. That's really a great feat. Although from this  we can have a fair assumption that, movies directed by these top directors will fetch higher profits, I don't think that can be supported without having a data set with all the movies directed by these directors and their respective profits."
   ]
  },
  {
   "cell_type": "markdown",
   "metadata": {},
   "source": [
    "### Who has appeared the most in films above 50M USD profits.?\n",
    "\n",
    "This will give an idea on whose movies give higher returns."
   ]
  },
  {
   "cell_type": "code",
   "execution_count": 64,
   "metadata": {
    "scrolled": true
   },
   "outputs": [
    {
     "data": {
      "text/plain": [
       "Tom Cruise            27\n",
       "Brad Pitt             25\n",
       "Tom Hanks             22\n",
       "Sylvester Stallone    21\n",
       "Cameron Diaz          20\n",
       "dtype: int64"
      ]
     },
     "execution_count": 64,
     "metadata": {},
     "output_type": "execute_result"
    }
   ],
   "source": [
    "count = split_count(df_50.copy(), 'cast')\n",
    "count.head()"
   ]
  },
  {
   "cell_type": "markdown",
   "metadata": {},
   "source": [
    "So, it's **Tom Cruise**, with 27 films grossing over $50 M. I did expected this, after all I know only few hollywood actors to begin with (!! ;D). Pretty much all of these actors are well known and as expected their huge fanbase is quite enough to make a film gross over 50M USD. **Brad Pitt** is quite close in the list with 25 movies."
   ]
  },
  {
   "cell_type": "markdown",
   "metadata": {},
   "source": [
    "### What type of genre are more popular.?"
   ]
  },
  {
   "cell_type": "code",
   "execution_count": 88,
   "metadata": {
    "scrolled": true
   },
   "outputs": [],
   "source": [
    "count = split_count(df_50.copy(), 'genres')\n",
    "count.sort_values(ascending=True, inplace=True)"
   ]
  },
  {
   "cell_type": "code",
   "execution_count": 91,
   "metadata": {
    "scrolled": true
   },
   "outputs": [
    {
     "data": {
      "text/plain": [
       "Text(0.5,0,'Number of Movies')"
      ]
     },
     "execution_count": 91,
     "metadata": {},
     "output_type": "execute_result"
    },
    {
     "data": {
      "image/png": "[encoded data removed]",
      "text/plain": [
       "<Figure size 864x576 with 1 Axes>"
      ]
     },
     "metadata": {},
     "output_type": "display_data"
    }
   ],
   "source": [
    "# Plot a bar chart for easier understanding\n",
    "bar_plot = count.plot.barh(fontsize=15)\n",
    "bar_plot.figure.set_size_inches(12,8)\n",
    "bar_plot.set_title('Most filmed genres', fontsize=18)\n",
    "bar_plot.set_xlabel('Number of Movies', fontsize=15)"
   ]
  },
  {
   "cell_type": "markdown",
   "metadata": {},
   "source": [
    "Unexpected. **Comedy** genre is even more popular than the Action and Thriller genre. But by no means they are less popular, infact, they closely follow the **comedy** genre with 480 and 410 movies. Documentary and Foreign genre seems to be the least popular. So, a movie with 'Comedy, Action, and Adventure' is likely to be more profitable than 'other' genre movies."
   ]
  },
  {
   "cell_type": "markdown",
   "metadata": {},
   "source": [
    "### Which month released highest number of movies in all of the years"
   ]
  },
  {
   "cell_type": "code",
   "execution_count": 116,
   "metadata": {},
   "outputs": [],
   "source": [
    "# Let's first create a copy of the dataset\n",
    "month_df = df_50.copy()\n",
    "\n",
    "# Converting release date to datetime object. Since, it was converted back to string while storing as CSV\n",
    "month_df['release_date'] = pd.to_datetime(month_df.release_date)"
   ]
  },
  {
   "cell_type": "code",
   "execution_count": 117,
   "metadata": {},
   "outputs": [],
   "source": [
    "# set Release date as index\n",
    "month_df.set_index(keys='release_date', inplace=True)"
   ]
  },
  {
   "cell_type": "code",
   "execution_count": 120,
   "metadata": {},
   "outputs": [],
   "source": [
    "# Grouping by Month\n",
    "group_month = month_df.groupby(month_df.index.month)"
   ]
  },
  {
   "cell_type": "code",
   "execution_count": 135,
   "metadata": {
    "scrolled": false
   },
   "outputs": [
    {
     "data": {
      "image/png": "[encoded data removed]",
      "text/plain": [
       "<Figure size 864x432 with 1 Axes>"
      ]
     },
     "metadata": {},
     "output_type": "display_data"
    }
   ],
   "source": [
    "# Plotting No of movies each month\n",
    "\n",
    "month_count = group_month['id'].count()\n",
    "month_list = ['Jan', 'Feb', 'Mar', 'Apr', 'May', 'Jun',\n",
    "              'Jul', 'Aug', 'Sep', 'Oct', 'Nov', 'Dec']\n",
    "\n",
    "bar_plot = month_count.plot.barh()\n",
    "bar_plot.figure.set_size_inches(12,6)\n",
    "bar_plot.set_title('Number of Movies released each Month', fontsize=18)\n",
    "bar_plot.set_xlabel('Number of Movies', fontsize=15)\n",
    "bar_plot.set_ylabel('Release Month', fontsize=15)\n",
    "bar_plot.set_yticklabels(month_list, fontsize=12)\n",
    "bar_plot.tick_params(labelsize=12)"
   ]
  },
  {
   "cell_type": "markdown",
   "metadata": {},
   "source": [
    "December month sees the highest movie release in a year. Possibly due to presence of Winter holidays and festivals such as \"Christmas\" and 'New Year's Eve\""
   ]
  },
  {
   "cell_type": "code",
   "execution_count": 137,
   "metadata": {
    "scrolled": false
   },
   "outputs": [
    {
     "data": {
      "image/png": "[encoded data removed]",
      "text/plain": [
       "<Figure size 864x432 with 1 Axes>"
      ]
     },
     "metadata": {},
     "output_type": "display_data"
    }
   ],
   "source": [
    "# Group by Month, and add the revenues in each monthb\n",
    "month_count = group_month['revenue'].sum()\n",
    "bar_plot = month_count.plot.barh()\n",
    "bar_plot.figure.set_size_inches(12,6)\n",
    "bar_plot.set_title('Number of Movies released each Month', fontsize=18)\n",
    "bar_plot.set_xlabel('Revenue of Movies', fontsize=15)\n",
    "bar_plot.set_ylabel('Release Month', fontsize=15)\n",
    "bar_plot.set_yticklabels(month_list, fontsize=12)\n",
    "bar_plot.tick_params(labelsize=12)"
   ]
  },
  {
   "cell_type": "markdown",
   "metadata": {},
   "source": [
    "Although, December had the highest number of movie releases, still Jun has higher revenue, which means, 'June' is a better month to release than december. This can be due to the fact that 'December' has higher **competition**. Also, it seems like months of 'June', 'May', 'December', 'November' are the best time to release a movie."
   ]
  },
  {
   "cell_type": "markdown",
   "metadata": {},
   "source": [
    "<a id='conclusions'></a>\n",
    "## Conclusions\n",
    "\n",
    "After analyzing the TMDB movie dataset, I conclude that, for a movie to be successful,\n",
    "\n",
    "Selecting the following things may be helpful\n",
    "\n",
    "**Top 4 from Cast, Director, Release Month, Genre**\n",
    "\n",
    "**Cast** : Tom Cruise, Brad Pitt, Tom Hanks, Sylvester Stallone\n",
    "\n",
    "**Director** : Steven Spielberg, Robert Zemeckis, Clint Eastwood, Tim Burton\n",
    "\n",
    "**Genre** : Comedy, Action, Thriller, Adventure\n",
    "\n",
    "**Release Month** : June, December, May, November\n",
    "\n",
    "\n",
    "### Limitations\n",
    "\n",
    "The above conclusion doesn't mean that having any of those combination always gets us more than 50M USD in profits. It just gives an idea of whose presence, and direction has an impact on profits. Apart from these 4, there are so many external factors which will affect the profits of a movie, such as movies from the part of \"The Avengers\" series generally have higher profits. Considering that, even \"The Avengers : Infinity Wars\" was supposed to launched around 'May' (which later got pre-poned to April last, due to Mr.Robert Downey Jr's request) we can assume that, even the 'Avengers' team has done a similar analysis.\n",
    "\n",
    "Also, due to not so strong correlation between variables, the general questions such as runtime vs revenue, and other such plots only give as a hint on which range of values generally have higher profits, rather than saying 'higher runtime always yields higher revenue'"
   ]
  },
  {
   "cell_type": "markdown",
   "metadata": {},
   "source": [
    "### References\n",
    "\n",
    "https://stats.stackexchange.com/questions/10289/whats-the-difference-between-normalization-and-standardization\n",
    "\n",
    "https://github.com/JuzerShakir/Investigate_TMDb_Movies/blob/master/Investigating_Database.ipynb"
   ]
  }
 ],
 "metadata": {
  "kernelspec": {
   "display_name": "Python 3",
   "language": "python",
   "name": "python3"
  },
  "language_info": {
   "codemirror_mode": {
    "name": "ipython",
    "version": 3
   },
   "file_extension": ".py",
   "mimetype": "text/x-python",
   "name": "python",
   "nbconvert_exporter": "python",
   "pygments_lexer": "ipython3",
   "version": "3.6.4"
  }
 },
 "nbformat": 4,
 "nbformat_minor": 2
}
